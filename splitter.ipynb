{
 "cells": [
  {
   "cell_type": "code",
   "execution_count": null,
   "metadata": {},
   "outputs": [],
   "source": [
    "class SharedOrder:\n",
    "    def __init__(self, date: str, total: float, tax: float):\n",
    "        self.date = date\n",
    "        self.total = total\n",
    "        self.tax = tax\n",
    "        self.people = dict()\n",
    "        self.individual_total = 0\n",
    "        self.refunds = 0\n",
    "        self.tax_added = 0\n",
    "\n",
    "    def add(self, price:int, item:str, people: list[str]):\n",
    "        self.individual_total += price\n",
    "        # tax_for_item = price * self.tax / self.total \n",
    "        # price += tax_for_item\n",
    "        price_per_person = round(price / len(people),2)\n",
    "        for person in people:\n",
    "            if person not in self.people:\n",
    "                self.people[person] = []\n",
    "            self.people[person].append((item, price_per_person))\n",
    "\n",
    "    def refund(self, price:int, item:str, people: list[str]):\n",
    "        self.individual_total += price\n",
    "        self.refunds += price\n",
    "        pass\n",
    "\n",
    "    def __calculate_tax_even_split__(self):\n",
    "        '''Calculate the tax for each person based on the total price'''\n",
    "        tax_ratio = self.tax / self.individual_total\n",
    "        for person, values in self.people.items():\n",
    "            price_for_person = sum([price for (_, price) in values])\n",
    "            tax_for_person = price_for_person * tax_ratio\n",
    "            self.add(tax_for_person, \"Tax\", [person])\n",
    "            self.tax_added += tax_for_person\n",
    "\n",
    "    def __str__(self):\n",
    "        '''Get order stats, total per person, and items per person'''\n",
    "        self.__calculate_tax_even_split__()\n",
    "        out_str = \"\"\n",
    "        order_sum = 0\n",
    "        for person, values in self.people.items():\n",
    "            person_total = sum([price for (_, price) in values])\n",
    "            order_sum += person_total\n",
    "            items = \", \".join([item for (item, _) in values])\n",
    "            out_str += f\"${person_total:.2f}\\t{person}\\t{items}\\n\"\n",
    "        out_str += f\"\\nIndividual_Total: ${self.individual_total:.2f}\"\n",
    "        out_str += f\"\\nTax_Added: ${self.tax_added:.2f}\"\n",
    "        out_str += f\"\\nTotal: ${order_sum:.2f}\"\n",
    "        out_str += f\"\\nRefunds: ${self.refunds:.2f}\"\n",
    "        return out_str\n"
   ]
  },
  {
   "cell_type": "code",
   "execution_count": null,
   "metadata": {},
   "outputs": [],
   "source": [
    "# Example\n",
    "\n",
    "viranchee = \"Vir\"\n",
    "friend = \"friend\"\n",
    "\n",
    "order = SharedOrder('2021-09-18', 81.16, 1.76)\n",
    "order.add(10, \"Pizza\", [viranchee, friend])\n",
    "order.refund(1, \"Corn\", [viranchee])\n",
    "\n",
    "print(order)\n"
   ]
  }
 ],
 "metadata": {
  "kernelspec": {
   "display_name": "Python 3",
   "language": "python",
   "name": "python3"
  },
  "language_info": {
   "name": "python",
   "version": "3.12.6"
  }
 },
 "nbformat": 4,
 "nbformat_minor": 2
}
